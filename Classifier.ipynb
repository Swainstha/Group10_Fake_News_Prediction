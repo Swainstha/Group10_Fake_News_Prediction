{
  "nbformat": 4,
  "nbformat_minor": 0,
  "metadata": {
    "colab": {
      "provenance": []
    },
    "kernelspec": {
      "name": "python3",
      "display_name": "Python 3"
    },
    "language_info": {
      "name": "python"
    },
    "widgets": {
      "application/vnd.jupyter.widget-state+json": {
        "2ecda62947a44f98850da7e698fded7e": {
          "model_module": "@jupyter-widgets/controls",
          "model_name": "HBoxModel",
          "model_module_version": "1.5.0",
          "state": {
            "_dom_classes": [],
            "_model_module": "@jupyter-widgets/controls",
            "_model_module_version": "1.5.0",
            "_model_name": "HBoxModel",
            "_view_count": null,
            "_view_module": "@jupyter-widgets/controls",
            "_view_module_version": "1.5.0",
            "_view_name": "HBoxView",
            "box_style": "",
            "children": [
              "IPY_MODEL_2a08c97bf6394ceaa1c90c1d13b6ab46",
              "IPY_MODEL_4144999f74474ea6bca4b9ec74675dcc",
              "IPY_MODEL_70d5e9f8554c43cfb9d8bd0195abba5b"
            ],
            "layout": "IPY_MODEL_4bb9ae3153ed49188c143f7e30998f42"
          }
        },
        "2a08c97bf6394ceaa1c90c1d13b6ab46": {
          "model_module": "@jupyter-widgets/controls",
          "model_name": "HTMLModel",
          "model_module_version": "1.5.0",
          "state": {
            "_dom_classes": [],
            "_model_module": "@jupyter-widgets/controls",
            "_model_module_version": "1.5.0",
            "_model_name": "HTMLModel",
            "_view_count": null,
            "_view_module": "@jupyter-widgets/controls",
            "_view_module_version": "1.5.0",
            "_view_name": "HTMLView",
            "description": "",
            "description_tooltip": null,
            "layout": "IPY_MODEL_2e3c80ca40104f09ac78d7810ff8b3ed",
            "placeholder": "​",
            "style": "IPY_MODEL_17faa4ab8cf549cf8dc584ae2c606648",
            "value": " 42%"
          }
        },
        "4144999f74474ea6bca4b9ec74675dcc": {
          "model_module": "@jupyter-widgets/controls",
          "model_name": "FloatProgressModel",
          "model_module_version": "1.5.0",
          "state": {
            "_dom_classes": [],
            "_model_module": "@jupyter-widgets/controls",
            "_model_module_version": "1.5.0",
            "_model_name": "FloatProgressModel",
            "_view_count": null,
            "_view_module": "@jupyter-widgets/controls",
            "_view_module_version": "1.5.0",
            "_view_name": "ProgressView",
            "bar_style": "danger",
            "description": "",
            "description_tooltip": null,
            "layout": "IPY_MODEL_1f82a89bda3641b5a6dfe120e1dea4fa",
            "max": 1720,
            "min": 0,
            "orientation": "horizontal",
            "style": "IPY_MODEL_56c7395b80d14f7a90b13458e1e81821",
            "value": 731
          }
        },
        "70d5e9f8554c43cfb9d8bd0195abba5b": {
          "model_module": "@jupyter-widgets/controls",
          "model_name": "HTMLModel",
          "model_module_version": "1.5.0",
          "state": {
            "_dom_classes": [],
            "_model_module": "@jupyter-widgets/controls",
            "_model_module_version": "1.5.0",
            "_model_name": "HTMLModel",
            "_view_count": null,
            "_view_module": "@jupyter-widgets/controls",
            "_view_module_version": "1.5.0",
            "_view_name": "HTMLView",
            "description": "",
            "description_tooltip": null,
            "layout": "IPY_MODEL_9081e0e4120d413d8f91b0948cf862a1",
            "placeholder": "​",
            "style": "IPY_MODEL_798c92ceb8dd4cb6ad72d01ab45cdf18",
            "value": " 731/1720 [00:30&lt;00:06, 141.56it/s]"
          }
        },
        "4bb9ae3153ed49188c143f7e30998f42": {
          "model_module": "@jupyter-widgets/base",
          "model_name": "LayoutModel",
          "model_module_version": "1.2.0",
          "state": {
            "_model_module": "@jupyter-widgets/base",
            "_model_module_version": "1.2.0",
            "_model_name": "LayoutModel",
            "_view_count": null,
            "_view_module": "@jupyter-widgets/base",
            "_view_module_version": "1.2.0",
            "_view_name": "LayoutView",
            "align_content": null,
            "align_items": null,
            "align_self": null,
            "border": null,
            "bottom": null,
            "display": null,
            "flex": null,
            "flex_flow": null,
            "grid_area": null,
            "grid_auto_columns": null,
            "grid_auto_flow": null,
            "grid_auto_rows": null,
            "grid_column": null,
            "grid_gap": null,
            "grid_row": null,
            "grid_template_areas": null,
            "grid_template_columns": null,
            "grid_template_rows": null,
            "height": null,
            "justify_content": null,
            "justify_items": null,
            "left": null,
            "margin": null,
            "max_height": null,
            "max_width": null,
            "min_height": null,
            "min_width": null,
            "object_fit": null,
            "object_position": null,
            "order": null,
            "overflow": null,
            "overflow_x": null,
            "overflow_y": null,
            "padding": null,
            "right": null,
            "top": null,
            "visibility": null,
            "width": null
          }
        },
        "2e3c80ca40104f09ac78d7810ff8b3ed": {
          "model_module": "@jupyter-widgets/base",
          "model_name": "LayoutModel",
          "model_module_version": "1.2.0",
          "state": {
            "_model_module": "@jupyter-widgets/base",
            "_model_module_version": "1.2.0",
            "_model_name": "LayoutModel",
            "_view_count": null,
            "_view_module": "@jupyter-widgets/base",
            "_view_module_version": "1.2.0",
            "_view_name": "LayoutView",
            "align_content": null,
            "align_items": null,
            "align_self": null,
            "border": null,
            "bottom": null,
            "display": null,
            "flex": null,
            "flex_flow": null,
            "grid_area": null,
            "grid_auto_columns": null,
            "grid_auto_flow": null,
            "grid_auto_rows": null,
            "grid_column": null,
            "grid_gap": null,
            "grid_row": null,
            "grid_template_areas": null,
            "grid_template_columns": null,
            "grid_template_rows": null,
            "height": null,
            "justify_content": null,
            "justify_items": null,
            "left": null,
            "margin": null,
            "max_height": null,
            "max_width": null,
            "min_height": null,
            "min_width": null,
            "object_fit": null,
            "object_position": null,
            "order": null,
            "overflow": null,
            "overflow_x": null,
            "overflow_y": null,
            "padding": null,
            "right": null,
            "top": null,
            "visibility": null,
            "width": null
          }
        },
        "17faa4ab8cf549cf8dc584ae2c606648": {
          "model_module": "@jupyter-widgets/controls",
          "model_name": "DescriptionStyleModel",
          "model_module_version": "1.5.0",
          "state": {
            "_model_module": "@jupyter-widgets/controls",
            "_model_module_version": "1.5.0",
            "_model_name": "DescriptionStyleModel",
            "_view_count": null,
            "_view_module": "@jupyter-widgets/base",
            "_view_module_version": "1.2.0",
            "_view_name": "StyleView",
            "description_width": ""
          }
        },
        "1f82a89bda3641b5a6dfe120e1dea4fa": {
          "model_module": "@jupyter-widgets/base",
          "model_name": "LayoutModel",
          "model_module_version": "1.2.0",
          "state": {
            "_model_module": "@jupyter-widgets/base",
            "_model_module_version": "1.2.0",
            "_model_name": "LayoutModel",
            "_view_count": null,
            "_view_module": "@jupyter-widgets/base",
            "_view_module_version": "1.2.0",
            "_view_name": "LayoutView",
            "align_content": null,
            "align_items": null,
            "align_self": null,
            "border": null,
            "bottom": null,
            "display": null,
            "flex": null,
            "flex_flow": null,
            "grid_area": null,
            "grid_auto_columns": null,
            "grid_auto_flow": null,
            "grid_auto_rows": null,
            "grid_column": null,
            "grid_gap": null,
            "grid_row": null,
            "grid_template_areas": null,
            "grid_template_columns": null,
            "grid_template_rows": null,
            "height": null,
            "justify_content": null,
            "justify_items": null,
            "left": null,
            "margin": null,
            "max_height": null,
            "max_width": null,
            "min_height": null,
            "min_width": null,
            "object_fit": null,
            "object_position": null,
            "order": null,
            "overflow": null,
            "overflow_x": null,
            "overflow_y": null,
            "padding": null,
            "right": null,
            "top": null,
            "visibility": null,
            "width": null
          }
        },
        "56c7395b80d14f7a90b13458e1e81821": {
          "model_module": "@jupyter-widgets/controls",
          "model_name": "ProgressStyleModel",
          "model_module_version": "1.5.0",
          "state": {
            "_model_module": "@jupyter-widgets/controls",
            "_model_module_version": "1.5.0",
            "_model_name": "ProgressStyleModel",
            "_view_count": null,
            "_view_module": "@jupyter-widgets/base",
            "_view_module_version": "1.2.0",
            "_view_name": "StyleView",
            "bar_color": null,
            "description_width": ""
          }
        },
        "9081e0e4120d413d8f91b0948cf862a1": {
          "model_module": "@jupyter-widgets/base",
          "model_name": "LayoutModel",
          "model_module_version": "1.2.0",
          "state": {
            "_model_module": "@jupyter-widgets/base",
            "_model_module_version": "1.2.0",
            "_model_name": "LayoutModel",
            "_view_count": null,
            "_view_module": "@jupyter-widgets/base",
            "_view_module_version": "1.2.0",
            "_view_name": "LayoutView",
            "align_content": null,
            "align_items": null,
            "align_self": null,
            "border": null,
            "bottom": null,
            "display": null,
            "flex": null,
            "flex_flow": null,
            "grid_area": null,
            "grid_auto_columns": null,
            "grid_auto_flow": null,
            "grid_auto_rows": null,
            "grid_column": null,
            "grid_gap": null,
            "grid_row": null,
            "grid_template_areas": null,
            "grid_template_columns": null,
            "grid_template_rows": null,
            "height": null,
            "justify_content": null,
            "justify_items": null,
            "left": null,
            "margin": null,
            "max_height": null,
            "max_width": null,
            "min_height": null,
            "min_width": null,
            "object_fit": null,
            "object_position": null,
            "order": null,
            "overflow": null,
            "overflow_x": null,
            "overflow_y": null,
            "padding": null,
            "right": null,
            "top": null,
            "visibility": null,
            "width": null
          }
        },
        "798c92ceb8dd4cb6ad72d01ab45cdf18": {
          "model_module": "@jupyter-widgets/controls",
          "model_name": "DescriptionStyleModel",
          "model_module_version": "1.5.0",
          "state": {
            "_model_module": "@jupyter-widgets/controls",
            "_model_module_version": "1.5.0",
            "_model_name": "DescriptionStyleModel",
            "_view_count": null,
            "_view_module": "@jupyter-widgets/base",
            "_view_module_version": "1.2.0",
            "_view_name": "StyleView",
            "description_width": ""
          }
        },
        "6ddda937f83f46be8685679914cad97c": {
          "model_module": "@jupyter-widgets/controls",
          "model_name": "HBoxModel",
          "model_module_version": "1.5.0",
          "state": {
            "_dom_classes": [],
            "_model_module": "@jupyter-widgets/controls",
            "_model_module_version": "1.5.0",
            "_model_name": "HBoxModel",
            "_view_count": null,
            "_view_module": "@jupyter-widgets/controls",
            "_view_module_version": "1.5.0",
            "_view_name": "HBoxView",
            "box_style": "",
            "children": [
              "IPY_MODEL_22d269dfc78e4b099506377e04fa010a",
              "IPY_MODEL_1388c79039cd48d59c9a2944540169e4",
              "IPY_MODEL_6a1f2856ecbc407e992c9f6448aa9d74"
            ],
            "layout": "IPY_MODEL_f8140891110340779afd0c3acf46c681"
          }
        },
        "22d269dfc78e4b099506377e04fa010a": {
          "model_module": "@jupyter-widgets/controls",
          "model_name": "HTMLModel",
          "model_module_version": "1.5.0",
          "state": {
            "_dom_classes": [],
            "_model_module": "@jupyter-widgets/controls",
            "_model_module_version": "1.5.0",
            "_model_name": "HTMLModel",
            "_view_count": null,
            "_view_module": "@jupyter-widgets/controls",
            "_view_module_version": "1.5.0",
            "_view_name": "HTMLView",
            "description": "",
            "description_tooltip": null,
            "layout": "IPY_MODEL_07e65f9aa9b2429dbabdf9db20473c58",
            "placeholder": "​",
            "style": "IPY_MODEL_25e39761df234e1492ac8f590e51d23a",
            "value": " 52%"
          }
        },
        "1388c79039cd48d59c9a2944540169e4": {
          "model_module": "@jupyter-widgets/controls",
          "model_name": "FloatProgressModel",
          "model_module_version": "1.5.0",
          "state": {
            "_dom_classes": [],
            "_model_module": "@jupyter-widgets/controls",
            "_model_module_version": "1.5.0",
            "_model_name": "FloatProgressModel",
            "_view_count": null,
            "_view_module": "@jupyter-widgets/controls",
            "_view_module_version": "1.5.0",
            "_view_name": "ProgressView",
            "bar_style": "danger",
            "description": "",
            "description_tooltip": null,
            "layout": "IPY_MODEL_bd996b996e524b97b376dd98e8eb2825",
            "max": 2580,
            "min": 0,
            "orientation": "horizontal",
            "style": "IPY_MODEL_1b57ece944674836aa418323039f8573",
            "value": 1333
          }
        },
        "6a1f2856ecbc407e992c9f6448aa9d74": {
          "model_module": "@jupyter-widgets/controls",
          "model_name": "HTMLModel",
          "model_module_version": "1.5.0",
          "state": {
            "_dom_classes": [],
            "_model_module": "@jupyter-widgets/controls",
            "_model_module_version": "1.5.0",
            "_model_name": "HTMLModel",
            "_view_count": null,
            "_view_module": "@jupyter-widgets/controls",
            "_view_module_version": "1.5.0",
            "_view_name": "HTMLView",
            "description": "",
            "description_tooltip": null,
            "layout": "IPY_MODEL_ce88c8fbfd6b47a6ac29c97fe6b25998",
            "placeholder": "​",
            "style": "IPY_MODEL_c56b8aa014a84b02b49f6d817255381e",
            "value": " 1333/2580 [00:49&lt;00:07, 168.21it/s]"
          }
        },
        "f8140891110340779afd0c3acf46c681": {
          "model_module": "@jupyter-widgets/base",
          "model_name": "LayoutModel",
          "model_module_version": "1.2.0",
          "state": {
            "_model_module": "@jupyter-widgets/base",
            "_model_module_version": "1.2.0",
            "_model_name": "LayoutModel",
            "_view_count": null,
            "_view_module": "@jupyter-widgets/base",
            "_view_module_version": "1.2.0",
            "_view_name": "LayoutView",
            "align_content": null,
            "align_items": null,
            "align_self": null,
            "border": null,
            "bottom": null,
            "display": null,
            "flex": null,
            "flex_flow": null,
            "grid_area": null,
            "grid_auto_columns": null,
            "grid_auto_flow": null,
            "grid_auto_rows": null,
            "grid_column": null,
            "grid_gap": null,
            "grid_row": null,
            "grid_template_areas": null,
            "grid_template_columns": null,
            "grid_template_rows": null,
            "height": null,
            "justify_content": null,
            "justify_items": null,
            "left": null,
            "margin": null,
            "max_height": null,
            "max_width": null,
            "min_height": null,
            "min_width": null,
            "object_fit": null,
            "object_position": null,
            "order": null,
            "overflow": null,
            "overflow_x": null,
            "overflow_y": null,
            "padding": null,
            "right": null,
            "top": null,
            "visibility": null,
            "width": null
          }
        },
        "07e65f9aa9b2429dbabdf9db20473c58": {
          "model_module": "@jupyter-widgets/base",
          "model_name": "LayoutModel",
          "model_module_version": "1.2.0",
          "state": {
            "_model_module": "@jupyter-widgets/base",
            "_model_module_version": "1.2.0",
            "_model_name": "LayoutModel",
            "_view_count": null,
            "_view_module": "@jupyter-widgets/base",
            "_view_module_version": "1.2.0",
            "_view_name": "LayoutView",
            "align_content": null,
            "align_items": null,
            "align_self": null,
            "border": null,
            "bottom": null,
            "display": null,
            "flex": null,
            "flex_flow": null,
            "grid_area": null,
            "grid_auto_columns": null,
            "grid_auto_flow": null,
            "grid_auto_rows": null,
            "grid_column": null,
            "grid_gap": null,
            "grid_row": null,
            "grid_template_areas": null,
            "grid_template_columns": null,
            "grid_template_rows": null,
            "height": null,
            "justify_content": null,
            "justify_items": null,
            "left": null,
            "margin": null,
            "max_height": null,
            "max_width": null,
            "min_height": null,
            "min_width": null,
            "object_fit": null,
            "object_position": null,
            "order": null,
            "overflow": null,
            "overflow_x": null,
            "overflow_y": null,
            "padding": null,
            "right": null,
            "top": null,
            "visibility": null,
            "width": null
          }
        },
        "25e39761df234e1492ac8f590e51d23a": {
          "model_module": "@jupyter-widgets/controls",
          "model_name": "DescriptionStyleModel",
          "model_module_version": "1.5.0",
          "state": {
            "_model_module": "@jupyter-widgets/controls",
            "_model_module_version": "1.5.0",
            "_model_name": "DescriptionStyleModel",
            "_view_count": null,
            "_view_module": "@jupyter-widgets/base",
            "_view_module_version": "1.2.0",
            "_view_name": "StyleView",
            "description_width": ""
          }
        },
        "bd996b996e524b97b376dd98e8eb2825": {
          "model_module": "@jupyter-widgets/base",
          "model_name": "LayoutModel",
          "model_module_version": "1.2.0",
          "state": {
            "_model_module": "@jupyter-widgets/base",
            "_model_module_version": "1.2.0",
            "_model_name": "LayoutModel",
            "_view_count": null,
            "_view_module": "@jupyter-widgets/base",
            "_view_module_version": "1.2.0",
            "_view_name": "LayoutView",
            "align_content": null,
            "align_items": null,
            "align_self": null,
            "border": null,
            "bottom": null,
            "display": null,
            "flex": null,
            "flex_flow": null,
            "grid_area": null,
            "grid_auto_columns": null,
            "grid_auto_flow": null,
            "grid_auto_rows": null,
            "grid_column": null,
            "grid_gap": null,
            "grid_row": null,
            "grid_template_areas": null,
            "grid_template_columns": null,
            "grid_template_rows": null,
            "height": null,
            "justify_content": null,
            "justify_items": null,
            "left": null,
            "margin": null,
            "max_height": null,
            "max_width": null,
            "min_height": null,
            "min_width": null,
            "object_fit": null,
            "object_position": null,
            "order": null,
            "overflow": null,
            "overflow_x": null,
            "overflow_y": null,
            "padding": null,
            "right": null,
            "top": null,
            "visibility": null,
            "width": null
          }
        },
        "1b57ece944674836aa418323039f8573": {
          "model_module": "@jupyter-widgets/controls",
          "model_name": "ProgressStyleModel",
          "model_module_version": "1.5.0",
          "state": {
            "_model_module": "@jupyter-widgets/controls",
            "_model_module_version": "1.5.0",
            "_model_name": "ProgressStyleModel",
            "_view_count": null,
            "_view_module": "@jupyter-widgets/base",
            "_view_module_version": "1.2.0",
            "_view_name": "StyleView",
            "bar_color": null,
            "description_width": ""
          }
        },
        "ce88c8fbfd6b47a6ac29c97fe6b25998": {
          "model_module": "@jupyter-widgets/base",
          "model_name": "LayoutModel",
          "model_module_version": "1.2.0",
          "state": {
            "_model_module": "@jupyter-widgets/base",
            "_model_module_version": "1.2.0",
            "_model_name": "LayoutModel",
            "_view_count": null,
            "_view_module": "@jupyter-widgets/base",
            "_view_module_version": "1.2.0",
            "_view_name": "LayoutView",
            "align_content": null,
            "align_items": null,
            "align_self": null,
            "border": null,
            "bottom": null,
            "display": null,
            "flex": null,
            "flex_flow": null,
            "grid_area": null,
            "grid_auto_columns": null,
            "grid_auto_flow": null,
            "grid_auto_rows": null,
            "grid_column": null,
            "grid_gap": null,
            "grid_row": null,
            "grid_template_areas": null,
            "grid_template_columns": null,
            "grid_template_rows": null,
            "height": null,
            "justify_content": null,
            "justify_items": null,
            "left": null,
            "margin": null,
            "max_height": null,
            "max_width": null,
            "min_height": null,
            "min_width": null,
            "object_fit": null,
            "object_position": null,
            "order": null,
            "overflow": null,
            "overflow_x": null,
            "overflow_y": null,
            "padding": null,
            "right": null,
            "top": null,
            "visibility": null,
            "width": null
          }
        },
        "c56b8aa014a84b02b49f6d817255381e": {
          "model_module": "@jupyter-widgets/controls",
          "model_name": "DescriptionStyleModel",
          "model_module_version": "1.5.0",
          "state": {
            "_model_module": "@jupyter-widgets/controls",
            "_model_module_version": "1.5.0",
            "_model_name": "DescriptionStyleModel",
            "_view_count": null,
            "_view_module": "@jupyter-widgets/base",
            "_view_module_version": "1.2.0",
            "_view_name": "StyleView",
            "description_width": ""
          }
        },
        "c62539f5c0f1415bbdfd62f3e54bfc36": {
          "model_module": "@jupyter-widgets/controls",
          "model_name": "HBoxModel",
          "model_module_version": "1.5.0",
          "state": {
            "_dom_classes": [],
            "_model_module": "@jupyter-widgets/controls",
            "_model_module_version": "1.5.0",
            "_model_name": "HBoxModel",
            "_view_count": null,
            "_view_module": "@jupyter-widgets/controls",
            "_view_module_version": "1.5.0",
            "_view_name": "HBoxView",
            "box_style": "",
            "children": [
              "IPY_MODEL_05da9e4d8d8c4dfda25159953ea9c4ba",
              "IPY_MODEL_005663cef4b243f4a8150b2beb4c1ba6",
              "IPY_MODEL_d32cd017fcf84a88a672055486ce8acb"
            ],
            "layout": "IPY_MODEL_83f838a75983457282bda5f3658dd5d3"
          }
        },
        "05da9e4d8d8c4dfda25159953ea9c4ba": {
          "model_module": "@jupyter-widgets/controls",
          "model_name": "HTMLModel",
          "model_module_version": "1.5.0",
          "state": {
            "_dom_classes": [],
            "_model_module": "@jupyter-widgets/controls",
            "_model_module_version": "1.5.0",
            "_model_name": "HTMLModel",
            "_view_count": null,
            "_view_module": "@jupyter-widgets/controls",
            "_view_module_version": "1.5.0",
            "_view_name": "HTMLView",
            "description": "",
            "description_tooltip": null,
            "layout": "IPY_MODEL_1ec8d132f28043d6a1d8a36c9201a91a",
            "placeholder": "​",
            "style": "IPY_MODEL_65e82a7a84de42cba416a7e7b155c04a",
            "value": " 30%"
          }
        },
        "005663cef4b243f4a8150b2beb4c1ba6": {
          "model_module": "@jupyter-widgets/controls",
          "model_name": "FloatProgressModel",
          "model_module_version": "1.5.0",
          "state": {
            "_dom_classes": [],
            "_model_module": "@jupyter-widgets/controls",
            "_model_module_version": "1.5.0",
            "_model_name": "FloatProgressModel",
            "_view_count": null,
            "_view_module": "@jupyter-widgets/controls",
            "_view_module_version": "1.5.0",
            "_view_name": "ProgressView",
            "bar_style": "danger",
            "description": "",
            "description_tooltip": null,
            "layout": "IPY_MODEL_19a34fe87c774ceeaaa7e63a9c6c825a",
            "max": 2580,
            "min": 0,
            "orientation": "horizontal",
            "style": "IPY_MODEL_ff3c3af7b19843b4af5a1a6d97a5cfed",
            "value": 774
          }
        },
        "d32cd017fcf84a88a672055486ce8acb": {
          "model_module": "@jupyter-widgets/controls",
          "model_name": "HTMLModel",
          "model_module_version": "1.5.0",
          "state": {
            "_dom_classes": [],
            "_model_module": "@jupyter-widgets/controls",
            "_model_module_version": "1.5.0",
            "_model_name": "HTMLModel",
            "_view_count": null,
            "_view_module": "@jupyter-widgets/controls",
            "_view_module_version": "1.5.0",
            "_view_name": "HTMLView",
            "description": "",
            "description_tooltip": null,
            "layout": "IPY_MODEL_b8add2a0264a4493bffd3ff36cc70efc",
            "placeholder": "​",
            "style": "IPY_MODEL_293a77fcdbb449e1aca48fab18234421",
            "value": " 774/2580 [00:19&lt;00:07, 232.31it/s]"
          }
        },
        "83f838a75983457282bda5f3658dd5d3": {
          "model_module": "@jupyter-widgets/base",
          "model_name": "LayoutModel",
          "model_module_version": "1.2.0",
          "state": {
            "_model_module": "@jupyter-widgets/base",
            "_model_module_version": "1.2.0",
            "_model_name": "LayoutModel",
            "_view_count": null,
            "_view_module": "@jupyter-widgets/base",
            "_view_module_version": "1.2.0",
            "_view_name": "LayoutView",
            "align_content": null,
            "align_items": null,
            "align_self": null,
            "border": null,
            "bottom": null,
            "display": null,
            "flex": null,
            "flex_flow": null,
            "grid_area": null,
            "grid_auto_columns": null,
            "grid_auto_flow": null,
            "grid_auto_rows": null,
            "grid_column": null,
            "grid_gap": null,
            "grid_row": null,
            "grid_template_areas": null,
            "grid_template_columns": null,
            "grid_template_rows": null,
            "height": null,
            "justify_content": null,
            "justify_items": null,
            "left": null,
            "margin": null,
            "max_height": null,
            "max_width": null,
            "min_height": null,
            "min_width": null,
            "object_fit": null,
            "object_position": null,
            "order": null,
            "overflow": null,
            "overflow_x": null,
            "overflow_y": null,
            "padding": null,
            "right": null,
            "top": null,
            "visibility": null,
            "width": null
          }
        },
        "1ec8d132f28043d6a1d8a36c9201a91a": {
          "model_module": "@jupyter-widgets/base",
          "model_name": "LayoutModel",
          "model_module_version": "1.2.0",
          "state": {
            "_model_module": "@jupyter-widgets/base",
            "_model_module_version": "1.2.0",
            "_model_name": "LayoutModel",
            "_view_count": null,
            "_view_module": "@jupyter-widgets/base",
            "_view_module_version": "1.2.0",
            "_view_name": "LayoutView",
            "align_content": null,
            "align_items": null,
            "align_self": null,
            "border": null,
            "bottom": null,
            "display": null,
            "flex": null,
            "flex_flow": null,
            "grid_area": null,
            "grid_auto_columns": null,
            "grid_auto_flow": null,
            "grid_auto_rows": null,
            "grid_column": null,
            "grid_gap": null,
            "grid_row": null,
            "grid_template_areas": null,
            "grid_template_columns": null,
            "grid_template_rows": null,
            "height": null,
            "justify_content": null,
            "justify_items": null,
            "left": null,
            "margin": null,
            "max_height": null,
            "max_width": null,
            "min_height": null,
            "min_width": null,
            "object_fit": null,
            "object_position": null,
            "order": null,
            "overflow": null,
            "overflow_x": null,
            "overflow_y": null,
            "padding": null,
            "right": null,
            "top": null,
            "visibility": null,
            "width": null
          }
        },
        "65e82a7a84de42cba416a7e7b155c04a": {
          "model_module": "@jupyter-widgets/controls",
          "model_name": "DescriptionStyleModel",
          "model_module_version": "1.5.0",
          "state": {
            "_model_module": "@jupyter-widgets/controls",
            "_model_module_version": "1.5.0",
            "_model_name": "DescriptionStyleModel",
            "_view_count": null,
            "_view_module": "@jupyter-widgets/base",
            "_view_module_version": "1.2.0",
            "_view_name": "StyleView",
            "description_width": ""
          }
        },
        "19a34fe87c774ceeaaa7e63a9c6c825a": {
          "model_module": "@jupyter-widgets/base",
          "model_name": "LayoutModel",
          "model_module_version": "1.2.0",
          "state": {
            "_model_module": "@jupyter-widgets/base",
            "_model_module_version": "1.2.0",
            "_model_name": "LayoutModel",
            "_view_count": null,
            "_view_module": "@jupyter-widgets/base",
            "_view_module_version": "1.2.0",
            "_view_name": "LayoutView",
            "align_content": null,
            "align_items": null,
            "align_self": null,
            "border": null,
            "bottom": null,
            "display": null,
            "flex": null,
            "flex_flow": null,
            "grid_area": null,
            "grid_auto_columns": null,
            "grid_auto_flow": null,
            "grid_auto_rows": null,
            "grid_column": null,
            "grid_gap": null,
            "grid_row": null,
            "grid_template_areas": null,
            "grid_template_columns": null,
            "grid_template_rows": null,
            "height": null,
            "justify_content": null,
            "justify_items": null,
            "left": null,
            "margin": null,
            "max_height": null,
            "max_width": null,
            "min_height": null,
            "min_width": null,
            "object_fit": null,
            "object_position": null,
            "order": null,
            "overflow": null,
            "overflow_x": null,
            "overflow_y": null,
            "padding": null,
            "right": null,
            "top": null,
            "visibility": null,
            "width": null
          }
        },
        "ff3c3af7b19843b4af5a1a6d97a5cfed": {
          "model_module": "@jupyter-widgets/controls",
          "model_name": "ProgressStyleModel",
          "model_module_version": "1.5.0",
          "state": {
            "_model_module": "@jupyter-widgets/controls",
            "_model_module_version": "1.5.0",
            "_model_name": "ProgressStyleModel",
            "_view_count": null,
            "_view_module": "@jupyter-widgets/base",
            "_view_module_version": "1.2.0",
            "_view_name": "StyleView",
            "bar_color": null,
            "description_width": ""
          }
        },
        "b8add2a0264a4493bffd3ff36cc70efc": {
          "model_module": "@jupyter-widgets/base",
          "model_name": "LayoutModel",
          "model_module_version": "1.2.0",
          "state": {
            "_model_module": "@jupyter-widgets/base",
            "_model_module_version": "1.2.0",
            "_model_name": "LayoutModel",
            "_view_count": null,
            "_view_module": "@jupyter-widgets/base",
            "_view_module_version": "1.2.0",
            "_view_name": "LayoutView",
            "align_content": null,
            "align_items": null,
            "align_self": null,
            "border": null,
            "bottom": null,
            "display": null,
            "flex": null,
            "flex_flow": null,
            "grid_area": null,
            "grid_auto_columns": null,
            "grid_auto_flow": null,
            "grid_auto_rows": null,
            "grid_column": null,
            "grid_gap": null,
            "grid_row": null,
            "grid_template_areas": null,
            "grid_template_columns": null,
            "grid_template_rows": null,
            "height": null,
            "justify_content": null,
            "justify_items": null,
            "left": null,
            "margin": null,
            "max_height": null,
            "max_width": null,
            "min_height": null,
            "min_width": null,
            "object_fit": null,
            "object_position": null,
            "order": null,
            "overflow": null,
            "overflow_x": null,
            "overflow_y": null,
            "padding": null,
            "right": null,
            "top": null,
            "visibility": null,
            "width": null
          }
        },
        "293a77fcdbb449e1aca48fab18234421": {
          "model_module": "@jupyter-widgets/controls",
          "model_name": "DescriptionStyleModel",
          "model_module_version": "1.5.0",
          "state": {
            "_model_module": "@jupyter-widgets/controls",
            "_model_module_version": "1.5.0",
            "_model_name": "DescriptionStyleModel",
            "_view_count": null,
            "_view_module": "@jupyter-widgets/base",
            "_view_module_version": "1.2.0",
            "_view_name": "StyleView",
            "description_width": ""
          }
        }
      }
    }
  },
  "cells": [
    {
      "cell_type": "code",
      "execution_count": null,
      "metadata": {
        "id": "lpoUuO396HeM",
        "colab": {
          "base_uri": "https://localhost:8080/"
        },
        "outputId": "b484c2fd-f503-40ea-eeaa-ec7ce423fd54"
      },
      "outputs": [
        {
          "output_type": "stream",
          "name": "stdout",
          "text": [
            "Mounted at /content/drive\n"
          ]
        }
      ],
      "source": [
        "from google.colab import drive\n",
        "drive.mount('/content/drive')"
      ]
    },
    {
      "cell_type": "code",
      "source": [
        "import pandas as pd\n",
        "import numpy as np\n",
        "\n",
        "import random\n",
        "import json\n",
        "from tqdm.auto import tqdm\n",
        "import matplotlib.pyplot as plt\n",
        "import warnings\n",
        "warnings.filterwarnings('ignore')\n",
        "%matplotlib inline\n",
        "from collections import OrderedDict, defaultdict\n",
        "\n",
        "\n",
        "import torch\n",
        "import torchvision.models as models\n",
        "from transformers import get_scheduler\n",
        "import torch.nn as nn\n",
        "import torch.optim as optim\n",
        "from torch.utils.data import DataLoader, TensorDataset\n",
        "from sklearn.model_selection import train_test_split\n",
        "\n",
        "from sklearn.metrics import accuracy_score, precision_score, recall_score, f1_score, confusion_matrix, classification_report\n",
        "import seaborn as sns"
      ],
      "metadata": {
        "id": "KG62D7bK7UMB"
      },
      "execution_count": null,
      "outputs": []
    },
    {
      "cell_type": "code",
      "source": [
        "# load training and test dataset\n",
        "df_train = pd.read_csv('/content/drive/MyDrive/Colab Notebooks/fakeddit_train.csv')\n",
        "df_test = pd.read_csv('/content/drive/MyDrive/Colab Notebooks/fakeddit_test.csv')"
      ],
      "metadata": {
        "id": "tJbWzS6j6T4h"
      },
      "execution_count": null,
      "outputs": []
    },
    {
      "cell_type": "code",
      "source": [
        "# load the different feature represenations for training dataset\n",
        "file_path_fused_train = '/content/drive/MyDrive/Colab Notebooks/fused_features_train.pt'\n",
        "file_path_text_train = '/content/drive/MyDrive/Colab Notebooks/text_features_train.pt'\n",
        "file_path_image_train = '/content/drive/MyDrive/Colab Notebooks/image_features_train.pt'\n",
        "\n",
        "fused_features_train = torch.load(file_path_fused_train)\n",
        "text_features_train = torch.load(file_path_text_train)\n",
        "image_features_train = torch.load(file_path_image_train)"
      ],
      "metadata": {
        "id": "AIQ0oZL_BwAR"
      },
      "execution_count": null,
      "outputs": []
    },
    {
      "cell_type": "code",
      "source": [
        "# load the different feature represenations for test dataset\n",
        "file_path_fused_test = '/content/drive/MyDrive/Colab Notebooks/fused_features_test.pt'\n",
        "file_path_text_test = '/content/drive/MyDrive/Colab Notebooks/text_features_test.pt'\n",
        "file_path_image_test = '/content/drive/MyDrive/Colab Notebooks/image_features_test.pt'\n",
        "\n",
        "fused_features_test = torch.load(file_path_fused_test)\n",
        "text_features_test = torch.load(file_path_text_test)\n",
        "image_features_test = torch.load(file_path_image_test)"
      ],
      "metadata": {
        "id": "-JTpWsLG7nX4"
      },
      "execution_count": null,
      "outputs": []
    },
    {
      "cell_type": "code",
      "source": [
        "# Set a random seed\n",
        "random_seed = 42\n",
        "random.seed(random_seed)\n",
        "\n",
        "# Set a random seed for PyTorch (for GPU as well)\n",
        "torch.manual_seed(random_seed)\n",
        "if torch.cuda.is_available():\n",
        "    print('available')\n",
        "    torch.cuda.manual_seed_all(random_seed)"
      ],
      "metadata": {
        "id": "Q6erIlaC6T-w",
        "colab": {
          "base_uri": "https://localhost:8080/"
        },
        "outputId": "d4bf995c-e17e-4331-83b6-95e0dba72b1a"
      },
      "execution_count": null,
      "outputs": [
        {
          "output_type": "stream",
          "name": "stdout",
          "text": [
            "available\n"
          ]
        }
      ]
    },
    {
      "cell_type": "code",
      "source": [
        "device = torch.device(\"cuda\" if torch.cuda.is_available() else \"cpu\")"
      ],
      "metadata": {
        "id": "VJy5MVIg6UC6"
      },
      "execution_count": null,
      "outputs": []
    },
    {
      "cell_type": "code",
      "source": [
        "# Define the class of the neural network\n",
        "class Classifier(nn.Module):\n",
        "    def __init__(self, arch, dropout_prob=0.2):\n",
        "        super(Classifier, self).__init__()\n",
        "        self.flatten = nn.Flatten()\n",
        "        layers = []\n",
        "        counts = defaultdict(int)\n",
        "\n",
        "        def add(name: str, layer: nn.Module) -> None:\n",
        "            layers.append((f\"{name}{counts[name]}\", layer))\n",
        "            counts[name] += 1\n",
        "\n",
        "        in_channels = arch.pop(0)\n",
        "        out_channels = arch.pop(-1)\n",
        "        for x in arch:\n",
        "            if x != 'D':\n",
        "                # linear layers\n",
        "                add(\"linear\", nn.Linear(in_channels, x))\n",
        "                add(\"relu\", nn.ReLU())\n",
        "                in_channels = x\n",
        "            else:\n",
        "                # dropout\n",
        "                add(\"dropout\", nn.Dropout(dropout_prob))\n",
        "        self.linear_relu_stack = nn.Sequential(OrderedDict(layers))\n",
        "        self.out_layer = nn.Linear(in_channels, out_channels)\n",
        "\n",
        "    def forward(self, x):\n",
        "        x = self.flatten(x)\n",
        "        x = self.linear_relu_stack(x)\n",
        "        logits = self.out_layer(x)\n",
        "        return logits"
      ],
      "metadata": {
        "id": "oQYuRUia6UIQ"
      },
      "execution_count": null,
      "outputs": []
    },
    {
      "cell_type": "code",
      "source": [
        "def get_label_name(n):\n",
        "    if n == 2:\n",
        "        return '2_way_label'\n",
        "    elif n == 3:\n",
        "        return '3_way_label'\n",
        "    elif n == 6:\n",
        "        return '6_way_label'"
      ],
      "metadata": {
        "id": "NRQ_GuZV6VSf"
      },
      "execution_count": null,
      "outputs": []
    },
    {
      "cell_type": "code",
      "source": [
        "#Custom pipeline for training and testing of the neural network\n",
        "class CustomPipeline():\n",
        "    def __init__(self, arch, learning_rate, batch_size, label):\n",
        "        super(CustomPipeline, self).__init__()\n",
        "        self.model = Classifier(arch)\n",
        "        self.model.to(device)\n",
        "        print(self.model)\n",
        "        self.criterion = nn.CrossEntropyLoss()  # CrossEntropyLoss\n",
        "        self.optimizer = optim.AdamW(self.model.parameters(), lr=learning_rate)\n",
        "        self.batch_size = batch_size\n",
        "        self.label = label\n",
        "\n",
        "    def set_learning_rate(self, learning_rate):\n",
        "        self.optimizer = optim.AdamW(self.model.parameters(), lr=learning_rate)\n",
        "\n",
        "    def prepare_training_dataset(self, fused_features, dataframe):\n",
        "        label_name = get_label_name(self.label)\n",
        "        X_train, X_validation, Y_train, Y_validation = train_test_split(fused_features, dataframe[label_name], test_size=0.2, random_state=random_seed)\n",
        "\n",
        "        train_data = X_train.to(device)  # input data tensor\n",
        "        target_labels = torch.tensor(Y_train.tolist()).to(device)  # target labels tensor\n",
        "        target_labels = target_labels.squeeze()\n",
        "        print(target_labels.shape)\n",
        "\n",
        "        # Create a TensorDataset from input_data and target_labels\n",
        "        dataset = TensorDataset(train_data, target_labels)\n",
        "        # Create a DataLoader to iterate over batches of data\n",
        "        self.train_loader = DataLoader(dataset, batch_size=self.batch_size, shuffle=True)\n",
        "\n",
        "        validation_data = X_validation.to(device) # input data tensor\n",
        "        target_labels_validate = torch.tensor(Y_validation.tolist()).to(device)  # target labels tensor\n",
        "        target_labels_validate = target_labels_validate.squeeze()\n",
        "        validation_dataset = TensorDataset(validation_data, target_labels_validate)\n",
        "        self.validation_loader = DataLoader(validation_dataset, batch_size=self.batch_size)\n",
        "\n",
        "    def prepare_test_dataset(self, fused_features, dataframe):\n",
        "        label_name = get_label_name(self.label)\n",
        "        X_test = fused_features.to(device)  # input data tensor\n",
        "        Y_test = dataframe[label_name]\n",
        "        target_labels = torch.tensor(Y_test.tolist()).to(device)  # target labels tensor\n",
        "        target_labels = target_labels.squeeze()\n",
        "        # Create a TensorDataset from input_data and target_labels\n",
        "        dataset = TensorDataset(X_test, target_labels)\n",
        "        # Create a DataLoader to iterate over batches of data\n",
        "        self.test_loader = DataLoader(dataset, batch_size=self.batch_size, shuffle=True)\n",
        "        return self.test_loader\n",
        "\n",
        "    def validate(self, dataset):\n",
        "        self.model.eval()\n",
        "        total_samples = 0\n",
        "        correct_predictions = 0\n",
        "        total_loss = 0\n",
        "        for inputs, targets in dataset:\n",
        "            # Get the batch size\n",
        "\n",
        "            batch_size = inputs.size(0)\n",
        "            total_samples += batch_size\n",
        "\n",
        "            with torch.no_grad():\n",
        "                outputs = self.model(inputs)\n",
        "\n",
        "            # Compute the loss\n",
        "                loss = self.criterion(outputs, targets)\n",
        "                predicted = torch.argmax(outputs, dim=-1) # because output is logit not probability\n",
        "                correct_predictions += (predicted == targets).sum().item()\n",
        "                total_loss += loss.item()\n",
        "        validation_accuracy = correct_predictions / total_samples\n",
        "        validation_loss = total_loss / len(dataset)\n",
        "        return validation_accuracy, validation_loss\n",
        "\n",
        "    def load_weights(self, weights):\n",
        "        self.model.load_state_dict(weights)\n",
        "\n",
        "\n",
        "    def test(self, dataset):\n",
        "        self.model.eval()\n",
        "        total_samples = 0\n",
        "        correct_predictions = 0\n",
        "        total_loss = 0\n",
        "        pred_arr = np.array([])\n",
        "        target_arr = np.array([])\n",
        "        for inputs, targets in dataset:\n",
        "            # Get the batch size\n",
        "\n",
        "            batch_size = inputs.size(0)\n",
        "            total_samples += batch_size\n",
        "\n",
        "            with torch.no_grad():\n",
        "                outputs = self.model(inputs)\n",
        "\n",
        "            # Compute the loss\n",
        "                loss = self.criterion(outputs, targets)\n",
        "                predicted = torch.argmax(outputs, dim=-1) # because output is logit not probability\n",
        "                pred_arr = np.hstack(\n",
        "                    (pred_arr, predicted.cpu().numpy().squeeze())\n",
        "                )\n",
        "                target_arr = np.hstack(\n",
        "                    (target_arr, targets.cpu().numpy().squeeze())\n",
        "                )\n",
        "                total_loss += loss.item()\n",
        "        test_loss = total_loss / len(dataset)\n",
        "        return test_loss, pred_arr, target_arr\n",
        "\n",
        "    # Function to load scheduler for changing learning rate\n",
        "    def decide_scheduler(self, schedule, train_steps):\n",
        "        class FakeScheduler:\n",
        "            def step():\n",
        "                pass\n",
        "        if schedule:\n",
        "            lr_scheduler = get_scheduler(name=\"linear\", optimizer=self.optimizer, num_warmup_steps=2, num_training_steps=train_steps)\n",
        "            return lr_scheduler\n",
        "        else:\n",
        "            return FakeScheduler()\n",
        "\n",
        "    def train(self, num_epochs, schedule=True):\n",
        "        loss_list = []\n",
        "        num_train_steps = num_epochs * len(self.train_loader)\n",
        "        progress_bar = tqdm(range(num_train_steps))\n",
        "        validation_accuracy_list = []\n",
        "        train_accuracy_list = []\n",
        "        validation_loss_list = []\n",
        "        patience = 7\n",
        "        best_accuracy = 0\n",
        "        counter = 0\n",
        "        stopped_epoch = 0\n",
        "\n",
        "\n",
        "        lr_scheduler = self.decide_scheduler(schedule, num_train_steps)\n",
        "        # Training loop\n",
        "        for epoch in range(num_epochs):\n",
        "            total_loss = 0.0\n",
        "            total_samples = 0\n",
        "            # set the model to training mode\n",
        "            self.model.train()\n",
        "            for inputs, targets in self.train_loader:\n",
        "                self.optimizer.zero_grad()\n",
        "                batch_size = inputs.size(0)\n",
        "                total_samples += batch_size\n",
        "                # Forward pass\n",
        "                outputs = self.model(inputs)\n",
        "                # Compute the loss\n",
        "                loss = self.criterion(outputs, targets)\n",
        "                # Backward pass and optimization\n",
        "                loss.backward()\n",
        "                self.optimizer.step()\n",
        "                lr_scheduler.step()\n",
        "                self.optimizer.zero_grad()\n",
        "                # Update the progress bar\n",
        "                progress_bar.update(1)\n",
        "                total_loss += loss.item()\n",
        "\n",
        "            validation_accuracy, validation_loss = self.validate(self.validation_loader)\n",
        "            validation_accuracy_list.append(validation_accuracy)\n",
        "            validation_loss_list.append(validation_loss)\n",
        "\n",
        "            train_accuracy, train_loss = self.validate(self.train_loader)\n",
        "            train_accuracy_list.append(train_accuracy)\n",
        "\n",
        "            loss_in_epoch = total_loss / len(self.train_loader)\n",
        "            loss_list.append(loss_in_epoch)\n",
        "            # Print the average loss for the epoch\n",
        "            print(f\"Epoch [{epoch+1}/{num_epochs}], Loss: {loss_in_epoch}, Train Accuracy: {train_accuracy*100}, Validation Loss: {validation_loss} Validation Accuracy: {validation_accuracy*100}\")\n",
        "            #for early stopping\n",
        "            if validation_accuracy >= best_accuracy:\n",
        "                best_accuracy = validation_accuracy\n",
        "                counter = 0\n",
        "                # Save the best model weights\n",
        "                self.best_model_weights = self.model.state_dict()\n",
        "                stopped_epoch = epoch\n",
        "            else:\n",
        "                counter += 1\n",
        "                if counter >= patience:\n",
        "                    self.model.load_state_dict(self.best_model_weights)\n",
        "                    print(\"Early stopping triggered.\")\n",
        "                    break\n",
        "        return validation_accuracy_list, validation_loss_list[0:stopped_epoch+1], loss_list[0:stopped_epoch+1]\n"
      ],
      "metadata": {
        "id": "wmC-QP5yp7cx"
      },
      "execution_count": null,
      "outputs": []
    },
    {
      "cell_type": "code",
      "source": [
        "def generate_metrics(targets, predictions, val_loss, train_loss, num_of_labels, model):\n",
        "    y_true, y_pred = targets, np.array(predictions)\n",
        "    accuracy = accuracy_score(y_true, y_pred)\n",
        "    precision = precision_score(y_true, y_pred, average='weighted')\n",
        "    recall = recall_score(y_true, y_pred, average='weighted')\n",
        "    f1 = f1_score(y_true, y_pred, average='weighted')\n",
        "    conf_matrix = confusion_matrix(y_true, y_pred)\n",
        "    print(\"Accuracy:\", accuracy * 100)\n",
        "    print(\"Precision:\", precision)\n",
        "    print(\"Recall:\", recall)\n",
        "    print(\"F1 Score:\", f1)\n",
        "\n",
        "    target_names = ['0', '1', '2']\n",
        "    #Print the classifcation report for all the classes\n",
        "    print(classification_report(y_true, y_pred, target_names=target_names))\n",
        "\n",
        "    #Plot confusion matrix\n",
        "    array = np.arange(num_of_labels)\n",
        "    classes = array.astype(str)\n",
        "    plt.figure(figsize=(8, 6))\n",
        "    sns.heatmap(conf_matrix, annot=True, fmt=\"d\", cmap=\"Blues\", xticklabels=classes, yticklabels=classes)\n",
        "    plt.xlabel('Predicted')\n",
        "    plt.ylabel('True')\n",
        "    plt.title(f'Confusion Matrix for {num_of_labels} way labels for {model}')\n",
        "    plt.savefig(f'c_matrix_{num_of_labels}_way_{model}.png')\n",
        "    plt.show()\n",
        "\n",
        "    #Plot validation loss and training loss\n",
        "    plt.plot(range(1, len(val_loss) + 1), val_loss, marker='o', label='Validation Loss')\n",
        "    plt.plot(range(1, len(train_loss) + 1), train_loss, marker='o', label='Training Loss')\n",
        "    plt.xlabel('Epoch')\n",
        "    plt.ylabel('Loss')\n",
        "    plt.title(f'Loss vs Epoch for {num_of_labels} way labels for {model}')\n",
        "    plt.grid(True)\n",
        "    plt.savefig(f'loss_graph_{num_of_labels}_way_{model}.png')\n",
        "    plt.show()\n",
        "\n"
      ],
      "metadata": {
        "id": "9t1sNuaB9dro"
      },
      "execution_count": null,
      "outputs": []
    },
    {
      "cell_type": "markdown",
      "source": [
        "### Train and test fused features for Multimodal dataset\n",
        "\n"
      ],
      "metadata": {
        "id": "1IQz8oeyD6Mc"
      }
    },
    {
      "cell_type": "code",
      "source": [
        "num_of_labels = 3"
      ],
      "metadata": {
        "id": "L3zB7OB2EfTO"
      },
      "execution_count": null,
      "outputs": []
    },
    {
      "cell_type": "code",
      "source": [
        "#define the architecture\n",
        "arch_fusion = [\n",
        "    2816,\n",
        "    'D',\n",
        "    2816,\n",
        "    'D',\n",
        "    512,\n",
        "    'D',\n",
        "    128,\n",
        "    # 'D',\n",
        "    16,\n",
        "    num_of_labels\n",
        "    ]\n",
        "batch_size = 64\n",
        "learning_rate = 1e-4\n",
        "num_of_epochs = 40"
      ],
      "metadata": {
        "id": "wyTW1Kne6omy"
      },
      "execution_count": null,
      "outputs": []
    },
    {
      "cell_type": "code",
      "source": [
        "#intialize piepline and prepare training data\n",
        "fused_pipeline = CustomPipeline(arch_fusion, learning_rate, batch_size, num_of_labels)\n",
        "fused_pipeline.prepare_training_dataset(fused_features_train, df_train)"
      ],
      "metadata": {
        "colab": {
          "base_uri": "https://localhost:8080/"
        },
        "id": "yV5CZdFe61cb",
        "outputId": "ecd3995c-9f57-482f-be4b-91f2a00f9cd1"
      },
      "execution_count": null,
      "outputs": [
        {
          "output_type": "stream",
          "name": "stdout",
          "text": [
            "Classifier(\n",
            "  (flatten): Flatten(start_dim=1, end_dim=-1)\n",
            "  (linear_relu_stack): Sequential(\n",
            "    (dropout0): Dropout(p=0.2, inplace=False)\n",
            "    (linear0): Linear(in_features=2816, out_features=2816, bias=True)\n",
            "    (relu0): ReLU()\n",
            "    (dropout1): Dropout(p=0.2, inplace=False)\n",
            "    (linear1): Linear(in_features=2816, out_features=512, bias=True)\n",
            "    (relu1): ReLU()\n",
            "    (dropout2): Dropout(p=0.2, inplace=False)\n",
            "    (linear2): Linear(in_features=512, out_features=128, bias=True)\n",
            "    (relu2): ReLU()\n",
            "    (linear3): Linear(in_features=128, out_features=16, bias=True)\n",
            "    (relu3): ReLU()\n",
            "  )\n",
            "  (out_layer): Linear(in_features=16, out_features=3, bias=True)\n",
            ")\n",
            "torch.Size([2699])\n"
          ]
        }
      ]
    },
    {
      "cell_type": "code",
      "source": [
        "#train the model\n",
        "validation_accuracy, validation_loss, training_loss = fused_pipeline.train(num_of_epochs)"
      ],
      "metadata": {
        "id": "7fvTHFRc9DbM",
        "colab": {
          "base_uri": "https://localhost:8080/",
          "height": 390,
          "referenced_widgets": [
            "2ecda62947a44f98850da7e698fded7e",
            "2a08c97bf6394ceaa1c90c1d13b6ab46",
            "4144999f74474ea6bca4b9ec74675dcc",
            "70d5e9f8554c43cfb9d8bd0195abba5b",
            "4bb9ae3153ed49188c143f7e30998f42",
            "2e3c80ca40104f09ac78d7810ff8b3ed",
            "17faa4ab8cf549cf8dc584ae2c606648",
            "1f82a89bda3641b5a6dfe120e1dea4fa",
            "56c7395b80d14f7a90b13458e1e81821",
            "9081e0e4120d413d8f91b0948cf862a1",
            "798c92ceb8dd4cb6ad72d01ab45cdf18"
          ]
        },
        "outputId": "16936458-8028-426a-ae6b-bd2a4fb174e6"
      },
      "execution_count": null,
      "outputs": [
        {
          "output_type": "display_data",
          "data": {
            "text/plain": [
              "  0%|          | 0/1720 [00:00<?, ?it/s]"
            ],
            "application/vnd.jupyter.widget-view+json": {
              "version_major": 2,
              "version_minor": 0,
              "model_id": "2ecda62947a44f98850da7e698fded7e"
            }
          },
          "metadata": {}
        },
        {
          "output_type": "stream",
          "name": "stdout",
          "text": [
            "Epoch [1/40], Loss: 0.8572967038598172, Train Accuracy: 58.391997035939234, Validation Loss: 0.8221037929708307 Validation Accuracy: 54.074074074074076\n",
            "Epoch [2/40], Loss: 0.7496410206306813, Train Accuracy: 65.50574286772878, Validation Loss: 0.7528610825538635 Validation Accuracy: 58.666666666666664\n",
            "Epoch [3/40], Loss: 0.6550411096839017, Train Accuracy: 70.32234160800297, Validation Loss: 0.7144500775770708 Validation Accuracy: 66.07407407407408\n",
            "Epoch [4/40], Loss: 0.597924294859864, Train Accuracy: 75.84290477954798, Validation Loss: 0.6202704283324155 Validation Accuracy: 70.81481481481482\n",
            "Epoch [5/40], Loss: 0.5540013278639594, Train Accuracy: 77.91774731381993, Validation Loss: 0.604337443004955 Validation Accuracy: 71.85185185185186\n",
            "Epoch [6/40], Loss: 0.513333156358364, Train Accuracy: 77.73249351611709, Validation Loss: 0.647293743762103 Validation Accuracy: 70.51851851851852\n",
            "Epoch [7/40], Loss: 0.5124615611031998, Train Accuracy: 81.28936643201186, Validation Loss: 0.5709905434738506 Validation Accuracy: 73.92592592592592\n",
            "Epoch [8/40], Loss: 0.4601283212040746, Train Accuracy: 81.95628010374213, Validation Loss: 0.5701565905050798 Validation Accuracy: 73.77777777777777\n",
            "Epoch [9/40], Loss: 0.44397241362305573, Train Accuracy: 81.25231567247128, Validation Loss: 0.6194346601312811 Validation Accuracy: 73.48148148148148\n",
            "Epoch [10/40], Loss: 0.4414724562057229, Train Accuracy: 84.69803630974435, Validation Loss: 0.5697426064447924 Validation Accuracy: 75.85185185185185\n",
            "Epoch [11/40], Loss: 0.40902460106583527, Train Accuracy: 83.32715820674323, Validation Loss: 0.6077811121940613 Validation Accuracy: 73.33333333333333\n",
            "Epoch [12/40], Loss: 0.3957384838614353, Train Accuracy: 86.80992960355687, Validation Loss: 0.5635969909754667 Validation Accuracy: 75.40740740740742\n",
            "Epoch [13/40], Loss: 0.38152257231778874, Train Accuracy: 86.88403112263802, Validation Loss: 0.5682794153690338 Validation Accuracy: 74.51851851851852\n",
            "Epoch [14/40], Loss: 0.36654483232387275, Train Accuracy: 87.99555390885513, Validation Loss: 0.5752533647147092 Validation Accuracy: 75.55555555555556\n",
            "Epoch [15/40], Loss: 0.34718924033087356, Train Accuracy: 83.91997035939237, Validation Loss: 0.6818173012950204 Validation Accuracy: 72.44444444444444\n",
            "Epoch [16/40], Loss: 0.34562226783397587, Train Accuracy: 88.6624675805854, Validation Loss: 0.6126263764771548 Validation Accuracy: 74.81481481481481\n",
            "Epoch [17/40], Loss: 0.3202581332866536, Train Accuracy: 90.8114116339385, Validation Loss: 0.5949379422447898 Validation Accuracy: 75.70370370370371\n",
            "Early stopping triggered.\n"
          ]
        }
      ]
    },
    {
      "cell_type": "code",
      "source": [
        "#test the model\n",
        "test_dataset = fused_pipeline.prepare_test_dataset(fused_features_test, df_test)\n",
        "loss, predictions, targets = fused_pipeline.test(test_dataset)\n",
        "print(f\"Test Loss: {loss}\")\n",
        "generate_metrics(targets, predictions, validation_loss, training_loss, num_of_labels, 'fusion')"
      ],
      "metadata": {
        "id": "uR8aexlj9SyA",
        "colab": {
          "base_uri": "https://localhost:8080/",
          "height": 1000
        },
        "outputId": "52ea68e8-27d7-4968-891e-6f2f5f2fe59d"
      },
      "execution_count": null,
      "outputs": [
        {
          "output_type": "stream",
          "name": "stdout",
          "text": [
            "Test Loss: 0.502871348099275\n",
            "Accuracy: 78.19548872180451\n",
            "Precision: 0.7802107357512691\n",
            "Recall: 0.7819548872180451\n",
            "F1 Score: 0.7804090352442301\n",
            "              precision    recall  f1-score   support\n",
            "\n",
            "           0       0.81      0.85      0.83       390\n",
            "           1       0.71      0.74      0.72        23\n",
            "           2       0.74      0.69      0.71       252\n",
            "\n",
            "    accuracy                           0.78       665\n",
            "   macro avg       0.75      0.76      0.75       665\n",
            "weighted avg       0.78      0.78      0.78       665\n",
            "\n"
          ]
        },
        {
          "output_type": "display_data",
          "data": {
            "text/plain": [
              "<Figure size 800x600 with 2 Axes>"
            ],
            "image/png": "[encoded data removed]"
          },
          "metadata": {}
        },
        {
          "output_type": "display_data",
          "data": {
            "text/plain": [
              "<Figure size 640x480 with 1 Axes>"
            ],
            "image/png": "[encoded data removed]"
          },
          "metadata": {}
        }
      ]
    },
    {
      "cell_type": "markdown",
      "source": [
        "### Train and test fused features for image only input\n",
        "\n"
      ],
      "metadata": {
        "id": "WGlqt9g_EAaO"
      }
    },
    {
      "cell_type": "code",
      "source": [
        "arch_image = [\n",
        "    2048,\n",
        "    'D',\n",
        "    2048,\n",
        "    'D',\n",
        "    512,\n",
        "    'D',\n",
        "    128,\n",
        "    #'D',\n",
        "    16,\n",
        "    num_of_labels\n",
        "    ]\n",
        "batch_size = 64\n",
        "learning_rate = 1e-4\n",
        "num_of_epochs = 60"
      ],
      "metadata": {
        "id": "r-x03GF-AFwp"
      },
      "execution_count": null,
      "outputs": []
    },
    {
      "cell_type": "code",
      "source": [
        "image_pipeline = CustomPipeline(arch_image, learning_rate, batch_size, num_of_labels)\n",
        "image_pipeline.prepare_training_dataset(image_features_train, df_train)"
      ],
      "metadata": {
        "id": "dkNBwEUcAH-2",
        "colab": {
          "base_uri": "https://localhost:8080/"
        },
        "outputId": "cab2c120-c610-4781-b8a9-980eb70ad347"
      },
      "execution_count": null,
      "outputs": [
        {
          "output_type": "stream",
          "name": "stdout",
          "text": [
            "Classifier(\n",
            "  (flatten): Flatten(start_dim=1, end_dim=-1)\n",
            "  (linear_relu_stack): Sequential(\n",
            "    (dropout0): Dropout(p=0.2, inplace=False)\n",
            "    (linear0): Linear(in_features=2048, out_features=2048, bias=True)\n",
            "    (relu0): ReLU()\n",
            "    (dropout1): Dropout(p=0.2, inplace=False)\n",
            "    (linear1): Linear(in_features=2048, out_features=512, bias=True)\n",
            "    (relu1): ReLU()\n",
            "    (dropout2): Dropout(p=0.2, inplace=False)\n",
            "    (linear2): Linear(in_features=512, out_features=128, bias=True)\n",
            "    (relu2): ReLU()\n",
            "    (linear3): Linear(in_features=128, out_features=16, bias=True)\n",
            "    (relu3): ReLU()\n",
            "  )\n",
            "  (out_layer): Linear(in_features=16, out_features=3, bias=True)\n",
            ")\n",
            "torch.Size([2699])\n"
          ]
        }
      ]
    },
    {
      "cell_type": "code",
      "source": [
        "validation_accuracy, validation_loss, training_loss = image_pipeline.train(num_of_epochs)"
      ],
      "metadata": {
        "id": "v8qxPUEcAU7D",
        "colab": {
          "base_uri": "https://localhost:8080/",
          "height": 641,
          "referenced_widgets": [
            "6ddda937f83f46be8685679914cad97c",
            "22d269dfc78e4b099506377e04fa010a",
            "1388c79039cd48d59c9a2944540169e4",
            "6a1f2856ecbc407e992c9f6448aa9d74",
            "f8140891110340779afd0c3acf46c681",
            "07e65f9aa9b2429dbabdf9db20473c58",
            "25e39761df234e1492ac8f590e51d23a",
            "bd996b996e524b97b376dd98e8eb2825",
            "1b57ece944674836aa418323039f8573",
            "ce88c8fbfd6b47a6ac29c97fe6b25998",
            "c56b8aa014a84b02b49f6d817255381e"
          ]
        },
        "outputId": "8769519e-3fce-489a-e30d-fe703ecbdc42"
      },
      "execution_count": null,
      "outputs": [
        {
          "output_type": "display_data",
          "data": {
            "text/plain": [
              "  0%|          | 0/2580 [00:00<?, ?it/s]"
            ],
            "application/vnd.jupyter.widget-view+json": {
              "version_major": 2,
              "version_minor": 0,
              "model_id": "6ddda937f83f46be8685679914cad97c"
            }
          },
          "metadata": {}
        },
        {
          "output_type": "stream",
          "name": "stdout",
          "text": [
            "Epoch [1/60], Loss: 0.8993904701499051, Train Accuracy: 58.391997035939234, Validation Loss: 0.838664401661266 Validation Accuracy: 54.074074074074076\n",
            "Epoch [2/60], Loss: 0.786231417988622, Train Accuracy: 58.391997035939234, Validation Loss: 0.804656212980097 Validation Accuracy: 54.074074074074076\n",
            "Epoch [3/60], Loss: 0.740495367105617, Train Accuracy: 66.98777324935162, Validation Loss: 0.7524030858820135 Validation Accuracy: 62.96296296296296\n",
            "Epoch [4/60], Loss: 0.6877782400264296, Train Accuracy: 66.43201185624305, Validation Loss: 0.75709237835624 Validation Accuracy: 60.44444444444444\n",
            "Epoch [5/60], Loss: 0.6634410377158675, Train Accuracy: 69.95183401259726, Validation Loss: 0.6937959627671675 Validation Accuracy: 65.77777777777779\n",
            "Epoch [6/60], Loss: 0.6384892491407173, Train Accuracy: 71.76732123008522, Validation Loss: 0.6782871268012307 Validation Accuracy: 66.37037037037037\n",
            "Epoch [7/60], Loss: 0.6102238193500874, Train Accuracy: 73.36050389032975, Validation Loss: 0.6673202352090315 Validation Accuracy: 68.14814814814815\n",
            "Epoch [8/60], Loss: 0.59661872580994, Train Accuracy: 74.28677287884402, Validation Loss: 0.6622974980961193 Validation Accuracy: 68.2962962962963\n",
            "Epoch [9/60], Loss: 0.5856575619342715, Train Accuracy: 75.47239718414227, Validation Loss: 0.6566547426310453 Validation Accuracy: 68.88888888888889\n",
            "Epoch [10/60], Loss: 0.5686899250329926, Train Accuracy: 71.0263060392738, Validation Loss: 0.7329869649626992 Validation Accuracy: 64.14814814814814\n",
            "Epoch [11/60], Loss: 0.5775790956131247, Train Accuracy: 74.95368655057429, Validation Loss: 0.6845866766842928 Validation Accuracy: 64.74074074074075\n",
            "Epoch [12/60], Loss: 0.5524828198344208, Train Accuracy: 76.50981845127825, Validation Loss: 0.669777125120163 Validation Accuracy: 66.66666666666666\n",
            "Epoch [13/60], Loss: 0.5465392636698346, Train Accuracy: 77.36198592071138, Validation Loss: 0.6676647879860618 Validation Accuracy: 67.7037037037037\n",
            "Epoch [14/60], Loss: 0.5336499422095543, Train Accuracy: 76.28751389403483, Validation Loss: 0.6883142969825051 Validation Accuracy: 65.48148148148148\n",
            "Epoch [15/60], Loss: 0.5340824847997621, Train Accuracy: 79.06632085957762, Validation Loss: 0.6671485088088296 Validation Accuracy: 69.18518518518518\n",
            "Epoch [16/60], Loss: 0.5070647687412971, Train Accuracy: 80.06669136717302, Validation Loss: 0.6622324152426287 Validation Accuracy: 68.74074074074073\n",
            "Epoch [17/60], Loss: 0.5121216531409774, Train Accuracy: 81.77102630603927, Validation Loss: 0.6594957167452032 Validation Accuracy: 68.74074074074073\n",
            "Epoch [18/60], Loss: 0.49158346029215083, Train Accuracy: 82.32678769914783, Validation Loss: 0.6602778380567377 Validation Accuracy: 69.48148148148148\n",
            "Epoch [19/60], Loss: 0.474220228056575, Train Accuracy: 83.21600592812153, Validation Loss: 0.6720581921664152 Validation Accuracy: 69.03703703703704\n",
            "Epoch [20/60], Loss: 0.4648172682107881, Train Accuracy: 84.10522415709522, Validation Loss: 0.6712776530872692 Validation Accuracy: 68.44444444444444\n",
            "Epoch [21/60], Loss: 0.45073012245255845, Train Accuracy: 85.92071137458318, Validation Loss: 0.6807802536270835 Validation Accuracy: 69.03703703703704\n",
            "Epoch [22/60], Loss: 0.4181899317475252, Train Accuracy: 87.18043719896258, Validation Loss: 0.7053408135067333 Validation Accuracy: 67.55555555555556\n",
            "Epoch [23/60], Loss: 0.42314178860464763, Train Accuracy: 87.95850314931457, Validation Loss: 0.6835290356115862 Validation Accuracy: 70.37037037037037\n",
            "Epoch [24/60], Loss: 0.40769216279650844, Train Accuracy: 88.8106706187477, Validation Loss: 0.6956360340118408 Validation Accuracy: 70.51851851851852\n",
            "Epoch [25/60], Loss: 0.38517492628374767, Train Accuracy: 87.58799555390885, Validation Loss: 0.7257171923463995 Validation Accuracy: 69.03703703703704\n",
            "Epoch [26/60], Loss: 0.3692352290070334, Train Accuracy: 91.14486846980363, Validation Loss: 0.7146082412112843 Validation Accuracy: 68.14814814814815\n",
            "Epoch [27/60], Loss: 0.3679400765618613, Train Accuracy: 90.55205631715451, Validation Loss: 0.7164944897998463 Validation Accuracy: 69.77777777777779\n",
            "Epoch [28/60], Loss: 0.32131258173044336, Train Accuracy: 93.25676176361615, Validation Loss: 0.7427732348442078 Validation Accuracy: 68.14814814814815\n",
            "Epoch [29/60], Loss: 0.3151121427153432, Train Accuracy: 93.84957391626529, Validation Loss: 0.7711167389696295 Validation Accuracy: 68.5925925925926\n",
            "Epoch [30/60], Loss: 0.29500664493372275, Train Accuracy: 94.92404594294183, Validation Loss: 0.7850866263562982 Validation Accuracy: 67.25925925925927\n",
            "Epoch [31/60], Loss: 0.28964186442452805, Train Accuracy: 91.36717302704706, Validation Loss: 0.8594797849655151 Validation Accuracy: 62.81481481481481\n",
            "Early stopping triggered.\n"
          ]
        }
      ]
    },
    {
      "cell_type": "code",
      "source": [
        "test_dataset = image_pipeline.prepare_test_dataset(image_features_test, df_test)\n",
        "loss, predictions, targets = image_pipeline.test(test_dataset)\n",
        "print(f\"Test Loss: {loss}\")\n",
        "generate_metrics(targets, predictions,validation_loss, training_loss, num_of_labels, 'Resnet50')"
      ],
      "metadata": {
        "id": "aGZkhzH2EJsc",
        "colab": {
          "base_uri": "https://localhost:8080/",
          "height": 1000
        },
        "outputId": "73b8ade3-165c-45e4-a4b1-6433ecbcb0f0"
      },
      "execution_count": null,
      "outputs": [
        {
          "output_type": "stream",
          "name": "stdout",
          "text": [
            "Test Loss: 0.8806063641201366\n",
            "Accuracy: 64.06015037593986\n",
            "Precision: 0.6816741003295314\n",
            "Recall: 0.6406015037593985\n",
            "F1 Score: 0.6441177061317176\n",
            "              precision    recall  f1-score   support\n",
            "\n",
            "           0       0.79      0.57      0.66       390\n",
            "           1       0.62      0.65      0.64        23\n",
            "           2       0.53      0.75      0.62       252\n",
            "\n",
            "    accuracy                           0.64       665\n",
            "   macro avg       0.65      0.66      0.64       665\n",
            "weighted avg       0.68      0.64      0.64       665\n",
            "\n"
          ]
        },
        {
          "output_type": "display_data",
          "data": {
            "text/plain": [
              "<Figure size 800x600 with 2 Axes>"
            ],
            "image/png": "[encoded data removed]"
          },
          "metadata": {}
        },
        {
          "output_type": "display_data",
          "data": {
            "text/plain": [
              "<Figure size 640x480 with 1 Axes>"
            ],
            "image/png": "[encoded data removed]"
          },
          "metadata": {}
        }
      ]
    },
    {
      "cell_type": "markdown",
      "source": [
        "### Train and test fused features for text only input\n",
        "\n"
      ],
      "metadata": {
        "id": "fAZ77uDNEVAd"
      }
    },
    {
      "cell_type": "code",
      "source": [
        "arch_text = [\n",
        "    768,\n",
        "    'D',\n",
        "    768,\n",
        "    'D',\n",
        "    512,\n",
        "    'D',\n",
        "    128,\n",
        "    # 'D',\n",
        "    16,\n",
        "    num_of_labels\n",
        "    ]\n",
        "batch_size = 64\n",
        "learning_rate = 1e-3\n",
        "num_of_epochs = 60"
      ],
      "metadata": {
        "id": "skX5wpT7A8_t"
      },
      "execution_count": null,
      "outputs": []
    },
    {
      "cell_type": "code",
      "source": [
        "text_pipeline = CustomPipeline(arch_text, learning_rate, batch_size, num_of_labels)\n",
        "text_pipeline.prepare_training_dataset(text_features_train, df_train)"
      ],
      "metadata": {
        "id": "Lkh698LiBJh0",
        "colab": {
          "base_uri": "https://localhost:8080/"
        },
        "outputId": "075e4e54-9ca0-4e78-f089-8ba2221a3982"
      },
      "execution_count": null,
      "outputs": [
        {
          "output_type": "stream",
          "name": "stdout",
          "text": [
            "Classifier(\n",
            "  (flatten): Flatten(start_dim=1, end_dim=-1)\n",
            "  (linear_relu_stack): Sequential(\n",
            "    (dropout0): Dropout(p=0.2, inplace=False)\n",
            "    (linear0): Linear(in_features=768, out_features=768, bias=True)\n",
            "    (relu0): ReLU()\n",
            "    (dropout1): Dropout(p=0.2, inplace=False)\n",
            "    (linear1): Linear(in_features=768, out_features=512, bias=True)\n",
            "    (relu1): ReLU()\n",
            "    (dropout2): Dropout(p=0.2, inplace=False)\n",
            "    (linear2): Linear(in_features=512, out_features=128, bias=True)\n",
            "    (relu2): ReLU()\n",
            "    (linear3): Linear(in_features=128, out_features=16, bias=True)\n",
            "    (relu3): ReLU()\n",
            "  )\n",
            "  (out_layer): Linear(in_features=16, out_features=3, bias=True)\n",
            ")\n",
            "torch.Size([2699])\n"
          ]
        }
      ]
    },
    {
      "cell_type": "code",
      "source": [],
      "metadata": {
        "id": "Cr_O9xusbQpR"
      },
      "execution_count": null,
      "outputs": []
    },
    {
      "cell_type": "code",
      "source": [
        "validation_accuracy, validation_loss, training_loss = text_pipeline.train(num_of_epochs)"
      ],
      "metadata": {
        "id": "3ndkBF7HBew7",
        "colab": {
          "base_uri": "https://localhost:8080/",
          "height": 408,
          "referenced_widgets": [
            "c62539f5c0f1415bbdfd62f3e54bfc36",
            "05da9e4d8d8c4dfda25159953ea9c4ba",
            "005663cef4b243f4a8150b2beb4c1ba6",
            "d32cd017fcf84a88a672055486ce8acb",
            "83f838a75983457282bda5f3658dd5d3",
            "1ec8d132f28043d6a1d8a36c9201a91a",
            "65e82a7a84de42cba416a7e7b155c04a",
            "19a34fe87c774ceeaaa7e63a9c6c825a",
            "ff3c3af7b19843b4af5a1a6d97a5cfed",
            "b8add2a0264a4493bffd3ff36cc70efc",
            "293a77fcdbb449e1aca48fab18234421"
          ]
        },
        "outputId": "a876025e-e471-4a10-de68-1e093c3e6c45"
      },
      "execution_count": null,
      "outputs": [
        {
          "output_type": "display_data",
          "data": {
            "text/plain": [
              "  0%|          | 0/2580 [00:00<?, ?it/s]"
            ],
            "application/vnd.jupyter.widget-view+json": {
              "version_major": 2,
              "version_minor": 0,
              "model_id": "c62539f5c0f1415bbdfd62f3e54bfc36"
            }
          },
          "metadata": {}
        },
        {
          "output_type": "stream",
          "name": "stdout",
          "text": [
            "Epoch [1/60], Loss: 0.7804794020430986, Train Accuracy: 69.98888477213782, Validation Loss: 0.6877303882078691 Validation Accuracy: 65.33333333333333\n",
            "Epoch [2/60], Loss: 0.6054600366326266, Train Accuracy: 74.13856984068174, Validation Loss: 0.6272481246428057 Validation Accuracy: 70.66666666666667\n",
            "Epoch [3/60], Loss: 0.561073046090991, Train Accuracy: 75.6947017413857, Validation Loss: 0.7057311047207225 Validation Accuracy: 67.85185185185185\n",
            "Epoch [4/60], Loss: 0.5240948553695235, Train Accuracy: 81.43756947017414, Validation Loss: 0.5765921554782174 Validation Accuracy: 74.37037037037038\n",
            "Epoch [5/60], Loss: 0.49153578697248945, Train Accuracy: 82.91959985179696, Validation Loss: 0.576147897676988 Validation Accuracy: 74.07407407407408\n",
            "Epoch [6/60], Loss: 0.4468287998853728, Train Accuracy: 84.69803630974435, Validation Loss: 0.5696796043352648 Validation Accuracy: 74.07407407407408\n",
            "Epoch [7/60], Loss: 0.4179809051890706, Train Accuracy: 87.43979251574657, Validation Loss: 0.5738994099877097 Validation Accuracy: 73.62962962962963\n",
            "Epoch [8/60], Loss: 0.38030520220135533, Train Accuracy: 89.88514264542424, Validation Loss: 0.5774844044988806 Validation Accuracy: 74.22222222222223\n",
            "Epoch [9/60], Loss: 0.35672897897487466, Train Accuracy: 90.25565024082994, Validation Loss: 0.5842727395621213 Validation Accuracy: 72.88888888888889\n",
            "Epoch [10/60], Loss: 0.3094637026620466, Train Accuracy: 92.73805113004818, Validation Loss: 0.5973508764397014 Validation Accuracy: 74.22222222222223\n",
            "Epoch [11/60], Loss: 0.27652499183665874, Train Accuracy: 94.25713227121156, Validation Loss: 0.6230618899518793 Validation Accuracy: 74.66666666666667\n",
            "Epoch [12/60], Loss: 0.23977572973384415, Train Accuracy: 96.10967024824009, Validation Loss: 0.6857628415931355 Validation Accuracy: 72.88888888888889\n",
            "Epoch [13/60], Loss: 0.21315987546776616, Train Accuracy: 96.92478695813264, Validation Loss: 0.7036143812266263 Validation Accuracy: 72.44444444444444\n",
            "Epoch [14/60], Loss: 0.18415786915047225, Train Accuracy: 97.03593923675436, Validation Loss: 0.8147627928040244 Validation Accuracy: 69.33333333333334\n",
            "Epoch [15/60], Loss: 0.17214308817719304, Train Accuracy: 97.29529455353834, Validation Loss: 0.8109254078431563 Validation Accuracy: 73.62962962962963\n",
            "Epoch [16/60], Loss: 0.13926027134753938, Train Accuracy: 97.44349759170063, Validation Loss: 1.006069540977478 Validation Accuracy: 71.55555555555554\n",
            "Epoch [17/60], Loss: 0.15238042907832666, Train Accuracy: 98.29566506113375, Validation Loss: 0.8583030050451105 Validation Accuracy: 73.92592592592592\n",
            "Epoch [18/60], Loss: 0.1319448844811251, Train Accuracy: 97.4805483512412, Validation Loss: 0.8742678219621832 Validation Accuracy: 72.44444444444444\n",
            "Early stopping triggered.\n"
          ]
        }
      ]
    },
    {
      "cell_type": "code",
      "source": [
        "test_dataset = text_pipeline.prepare_test_dataset(text_features_test, df_test)\n",
        "loss, predictions, targets = text_pipeline.test(test_dataset)\n",
        "print(f\"Test Loss: {loss}\")\n",
        "generate_metrics(targets, predictions,validation_loss, training_loss, num_of_labels, 'Bert')"
      ],
      "metadata": {
        "id": "h57usbNQBkZE",
        "colab": {
          "base_uri": "https://localhost:8080/",
          "height": 1000
        },
        "outputId": "3cdf3af7-aecb-4c66-9eb6-be0ba3932f6b"
      },
      "execution_count": null,
      "outputs": [
        {
          "output_type": "stream",
          "name": "stdout",
          "text": [
            "Test Loss: 0.8976966792886908\n",
            "Accuracy: 73.38345864661655\n",
            "Precision: 0.7568422465496657\n",
            "Recall: 0.7338345864661654\n",
            "F1 Score: 0.738343779829848\n",
            "              precision    recall  f1-score   support\n",
            "\n",
            "           0       0.85      0.71      0.77       390\n",
            "           1       0.52      0.70      0.59        23\n",
            "           2       0.63      0.77      0.70       252\n",
            "\n",
            "    accuracy                           0.73       665\n",
            "   macro avg       0.67      0.73      0.69       665\n",
            "weighted avg       0.76      0.73      0.74       665\n",
            "\n"
          ]
        },
        {
          "output_type": "display_data",
          "data": {
            "text/plain": [
              "<Figure size 800x600 with 2 Axes>"
            ],
            "image/png": "[encoded data removed]"
          },
          "metadata": {}
        },
        {
          "output_type": "display_data",
          "data": {
            "text/plain": [
              "<Figure size 640x480 with 1 Axes>"
            ],
            "image/png": "[encoded data removed]"
          },
          "metadata": {}
        }
      ]
    },
    {
      "cell_type": "code",
      "source": [],
      "metadata": {
        "id": "rbVNt151bV_7"
      },
      "execution_count": null,
      "outputs": []
    }
  ]
}